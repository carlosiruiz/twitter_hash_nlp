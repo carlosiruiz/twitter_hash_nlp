{
 "cells": [
  {
   "cell_type": "code",
   "execution_count": 51,
   "metadata": {
    "ExecuteTime": {
     "end_time": "2021-02-05T01:53:16.460835Z",
     "start_time": "2021-02-05T01:53:16.457733Z"
    }
   },
   "outputs": [],
   "source": [
    "import twint\n",
    "import pandas as pd"
   ]
  },
  {
   "cell_type": "code",
   "execution_count": 52,
   "metadata": {
    "ExecuteTime": {
     "end_time": "2021-02-05T01:53:16.840040Z",
     "start_time": "2021-02-05T01:53:16.836814Z"
    }
   },
   "outputs": [],
   "source": [
    "import nest_asyncio\n",
    "nest_asyncio.apply()"
   ]
  },
  {
   "cell_type": "code",
   "execution_count": 100,
   "metadata": {
    "ExecuteTime": {
     "end_time": "2021-02-05T02:11:53.901365Z",
     "start_time": "2021-02-05T02:11:53.896969Z"
    }
   },
   "outputs": [],
   "source": [
    "c = twint.Config()\n",
    "c.Search = \"#women\"\n",
    "c.Limit = 1\n",
    "c.Store_CSV= True\n",
    "c.Output = \"./\" + \"hashtag.csv\"\n",
    "c.Hide_output = True\n",
    "c.Count = True\n",
    "c.Stats = True\n",
    "c.Resume = 'resume.txt'\n"
   ]
  },
  {
   "cell_type": "code",
   "execution_count": 101,
   "metadata": {
    "ExecuteTime": {
     "end_time": "2021-02-05T02:11:55.883213Z",
     "start_time": "2021-02-05T02:11:54.433313Z"
    },
    "scrolled": false
   },
   "outputs": [
    {
     "name": "stdout",
     "output_type": "stream",
     "text": [
      "[+] Finished: Successfully collected 93 Tweets.\n"
     ]
    }
   ],
   "source": [
    "twint.run.Search(c)"
   ]
  },
  {
   "cell_type": "code",
   "execution_count": 106,
   "metadata": {
    "ExecuteTime": {
     "end_time": "2021-02-05T02:13:54.907475Z",
     "start_time": "2021-02-05T02:13:54.896688Z"
    }
   },
   "outputs": [
    {
     "name": "stderr",
     "output_type": "stream",
     "text": [
      "Skipping line 273: ',' expected after '\"'\n",
      "Skipping line 27: Expected 3 fields in line 27, saw 13\n",
      "Skipping line 83: Expected 3 fields in line 83, saw 4\n",
      "Skipping line 124: Expected 3 fields in line 124, saw 13\n",
      "Skipping line 180: Expected 3 fields in line 180, saw 4\n",
      "Skipping line 204: Expected 3 fields in line 204, saw 5\n",
      "Skipping line 213: Expected 3 fields in line 213, saw 4\n",
      "Skipping line 219: Expected 3 fields in line 219, saw 4\n",
      "Skipping line 226: Expected 3 fields in line 226, saw 9\n",
      "Skipping line 258: Expected 3 fields in line 258, saw 5\n",
      "Skipping line 275: Expected 3 fields in line 275, saw 5\n"
     ]
    }
   ],
   "source": [
    "hasht=pd.read_csv(\"hashtag.csv\",error_bad_lines=False,engine=\"python\")"
   ]
  },
  {
   "cell_type": "code",
   "execution_count": 111,
   "metadata": {
    "ExecuteTime": {
     "end_time": "2021-02-05T02:15:10.795323Z",
     "start_time": "2021-02-05T02:15:10.791814Z"
    }
   },
   "outputs": [],
   "source": [
    "hasht.reset_index(drop=True,inplace=True)"
   ]
  },
  {
   "cell_type": "code",
   "execution_count": 115,
   "metadata": {
    "ExecuteTime": {
     "end_time": "2021-02-05T02:16:26.182355Z",
     "start_time": "2021-02-05T02:16:26.178709Z"
    }
   },
   "outputs": [],
   "source": [
    "hasht.index= list(range(len(hasht)))"
   ]
  },
  {
   "cell_type": "code",
   "execution_count": 122,
   "metadata": {
    "ExecuteTime": {
     "end_time": "2021-02-05T02:17:17.512960Z",
     "start_time": "2021-02-05T02:17:17.509202Z"
    }
   },
   "outputs": [],
   "source": [
    "hasht.columns=[\"tweet\",\"tweet2\",\"tweet3\"]"
   ]
  },
  {
   "cell_type": "code",
   "execution_count": 132,
   "metadata": {
    "ExecuteTime": {
     "end_time": "2021-02-05T02:18:33.563141Z",
     "start_time": "2021-02-05T02:18:33.559215Z"
    }
   },
   "outputs": [
    {
     "data": {
      "text/plain": [
       "' awesome movie too. #women  https://t.co/DR2ClQLILj'"
      ]
     },
     "execution_count": 132,
     "metadata": {},
     "output_type": "execute_result"
    }
   ],
   "source": [
    "hasht.tweet3[0]"
   ]
  },
  {
   "cell_type": "code",
   "execution_count": null,
   "metadata": {},
   "outputs": [],
   "source": []
  }
 ],
 "metadata": {
  "kernelspec": {
   "display_name": "Python 3",
   "language": "python",
   "name": "python3"
  },
  "language_info": {
   "codemirror_mode": {
    "name": "ipython",
    "version": 3
   },
   "file_extension": ".py",
   "mimetype": "text/x-python",
   "name": "python",
   "nbconvert_exporter": "python",
   "pygments_lexer": "ipython3",
   "version": "3.8.3"
  }
 },
 "nbformat": 4,
 "nbformat_minor": 4
}
