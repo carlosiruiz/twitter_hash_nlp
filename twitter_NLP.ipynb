{
 "cells": [
  {
   "cell_type": "code",
   "execution_count": 1,
   "metadata": {
    "ExecuteTime": {
     "end_time": "2021-02-28T02:46:58.056700Z",
     "start_time": "2021-02-28T02:46:53.850180Z"
    }
   },
   "outputs": [
    {
     "name": "stderr",
     "output_type": "stream",
     "text": [
      "[nltk_data] Downloading package stopwords to\n",
      "[nltk_data]     /Users/carlosruiz/nltk_data...\n",
      "[nltk_data]   Package stopwords is already up-to-date!\n",
      "[nltk_data] Downloading package punkt to\n",
      "[nltk_data]     /Users/carlosruiz/nltk_data...\n",
      "[nltk_data]   Package punkt is already up-to-date!\n",
      "[nltk_data] Downloading package wordnet to\n",
      "[nltk_data]     /Users/carlosruiz/nltk_data...\n",
      "[nltk_data]   Package wordnet is already up-to-date!\n"
     ]
    },
    {
     "data": {
      "text/plain": [
       "True"
      ]
     },
     "execution_count": 1,
     "metadata": {},
     "output_type": "execute_result"
    }
   ],
   "source": [
    "import nltk\n",
    "import matplotlib.pyplot as plt\n",
    "import pandas as pd\n",
    "from sklearn.feature_extraction.text import CountVectorizer\n",
    "from sklearn.feature_extraction.text import TfidfVectorizer\n",
    "from sklearn.feature_extraction.text import TfidfTransformer\n",
    "from nltk.probability import FreqDist\n",
    "from nltk.corpus import stopwords\n",
    "from nltk.stem import PorterStemmer\n",
    "from sklearn.metrics import confusion_matrix\n",
    "import seaborn as sns\n",
    "from sklearn.naive_bayes import MultinomialNB\n",
    "from sklearn import metrics\n",
    "from sklearn.model_selection import train_test_split\n",
    "from matplotlib import cm\n",
    "import numpy as np\n",
    "from sklearn.ensemble import RandomForestClassifier\n",
    "from sklearn.metrics import accuracy_score\n",
    "from sklearn.metrics import f1_score\n",
    "from sklearn.naive_bayes import MultinomialNB\n",
    "\n",
    "nltk.download('stopwords')\n",
    "nltk.download('punkt')\n",
    "nltk.download('wordnet')"
   ]
  },
  {
   "cell_type": "code",
   "execution_count": 2,
   "metadata": {
    "ExecuteTime": {
     "end_time": "2021-02-28T02:46:58.065133Z",
     "start_time": "2021-02-28T02:46:58.058932Z"
    }
   },
   "outputs": [],
   "source": [
    "def hashtag_webscrape(hashtag:str,language:str,limit=100000,clean=True, auto_update= True):\n",
    "    import twint\n",
    "    import pandas as pd\n",
    "    import nest_asyncio\n",
    "    \n",
    "    nest_asyncio.apply()\n",
    "    c = twint.Config()\n",
    "    c.Search = hashtag\n",
    "    c.Limit = limit\n",
    "    c.Hide_output = True\n",
    "    c.Pandas = True\n",
    "    c.Pandas_clean = clean\n",
    "    c.Pandas_au = auto_update\n",
    "    \n",
    "    twint.run.Search(c)\n",
    "    \n",
    "    tweets = twint.storage.panda.Tweets_df\n",
    "    \n",
    "\n",
    "    df = tweets[tweets.language == language]\n",
    "    df = tweets[tweets.retweet == False]\n",
    "    df = df[['tweet','hashtags']]\n",
    "    df.reset_index(inplace=True,drop=True)\n",
    "    \n",
    "\n",
    "    print(\"Finished: Successfully collected \"+str(df.shape[0]) +\" Tweets.\")\n",
    "    \n",
    "    return df"
   ]
  },
  {
   "cell_type": "code",
   "execution_count": 3,
   "metadata": {
    "ExecuteTime": {
     "end_time": "2021-02-28T02:47:05.419993Z",
     "start_time": "2021-02-28T02:46:58.067869Z"
    }
   },
   "outputs": [
    {
     "name": "stdout",
     "output_type": "stream",
     "text": [
      "Finished: Successfully collected 73 Tweets.\n"
     ]
    }
   ],
   "source": [
    "df=hashtag_webscrape(\"#women\",\"en\", limit=1)"
   ]
  },
  {
   "cell_type": "code",
   "execution_count": 4,
   "metadata": {
    "ExecuteTime": {
     "end_time": "2021-02-28T02:47:05.429320Z",
     "start_time": "2021-02-28T02:47:05.421731Z"
    }
   },
   "outputs": [
    {
     "data": {
      "text/plain": [
       "Index(['tweet', 'hashtags'], dtype='object')"
      ]
     },
     "execution_count": 4,
     "metadata": {},
     "output_type": "execute_result"
    }
   ],
   "source": [
    "df.columns"
   ]
  },
  {
   "cell_type": "code",
   "execution_count": 5,
   "metadata": {
    "ExecuteTime": {
     "end_time": "2021-02-28T02:47:05.449109Z",
     "start_time": "2021-02-28T02:47:05.430905Z"
    },
    "scrolled": true
   },
   "outputs": [
    {
     "data": {
      "text/html": [
       "<div>\n",
       "<style scoped>\n",
       "    .dataframe tbody tr th:only-of-type {\n",
       "        vertical-align: middle;\n",
       "    }\n",
       "\n",
       "    .dataframe tbody tr th {\n",
       "        vertical-align: top;\n",
       "    }\n",
       "\n",
       "    .dataframe thead th {\n",
       "        text-align: right;\n",
       "    }\n",
       "</style>\n",
       "<table border=\"1\" class=\"dataframe\">\n",
       "  <thead>\n",
       "    <tr style=\"text-align: right;\">\n",
       "      <th></th>\n",
       "      <th>tweet</th>\n",
       "      <th>hashtags</th>\n",
       "    </tr>\n",
       "  </thead>\n",
       "  <tbody>\n",
       "    <tr>\n",
       "      <th>0</th>\n",
       "      <td>https://t.co/wHG3R9ZGJe #women Natural Straw ...</td>\n",
       "      <td>[women]</td>\n",
       "    </tr>\n",
       "    <tr>\n",
       "      <th>1</th>\n",
       "      <td>#Women making inroads on #WallStreet, but stil...</td>\n",
       "      <td>[women, wallstreet, womeninbusiness]</td>\n",
       "    </tr>\n",
       "    <tr>\n",
       "      <th>2</th>\n",
       "      <td>HOMOSEXUALS ARE GAY #LGBTQ #AmongUs #women</td>\n",
       "      <td>[lgbtq, amongus, women]</td>\n",
       "    </tr>\n",
       "    <tr>\n",
       "      <th>3</th>\n",
       "      <td>Albo spoke well on #Insiders, placing responsi...</td>\n",
       "      <td>[insiders, women]</td>\n",
       "    </tr>\n",
       "    <tr>\n",
       "      <th>4</th>\n",
       "      <td>Here is your pick up line for tonight!🍷🍺 #dati...</td>\n",
       "      <td>[dating, tinder, love, togo, bumble, relations...</td>\n",
       "    </tr>\n",
       "    <tr>\n",
       "      <th>...</th>\n",
       "      <td>...</td>\n",
       "      <td>...</td>\n",
       "    </tr>\n",
       "    <tr>\n",
       "      <th>68</th>\n",
       "      <td>the way this the second person that lied about...</td>\n",
       "      <td>[women]</td>\n",
       "    </tr>\n",
       "    <tr>\n",
       "      <th>69</th>\n",
       "      <td>https://t.co/VsjP9b4bIS - #Timeson #Womens #W...</td>\n",
       "      <td>[timeson, womens, white, tops, blouses, women,...</td>\n",
       "    </tr>\n",
       "    <tr>\n",
       "      <th>70</th>\n",
       "      <td>https://t.co/fj3FOXIB9S #PUMA Web Tech Bioweb...</td>\n",
       "      <td>[puma, women]</td>\n",
       "    </tr>\n",
       "    <tr>\n",
       "      <th>71</th>\n",
       "      <td>1/2 1 thing I don't get, if #TERFs and #Gender...</td>\n",
       "      <td>[terfs, gendercriticals, women]</td>\n",
       "    </tr>\n",
       "    <tr>\n",
       "      <th>72</th>\n",
       "      <td>#LilyCollins  https://t.co/mmk39EcoZJ  #bigdat...</td>\n",
       "      <td>[lilycollins, bigdata, uk, linkedin, fashion, ...</td>\n",
       "    </tr>\n",
       "  </tbody>\n",
       "</table>\n",
       "<p>73 rows × 2 columns</p>\n",
       "</div>"
      ],
      "text/plain": [
       "                                                tweet  \\\n",
       "0    https://t.co/wHG3R9ZGJe #women Natural Straw ...   \n",
       "1   #Women making inroads on #WallStreet, but stil...   \n",
       "2          HOMOSEXUALS ARE GAY #LGBTQ #AmongUs #women   \n",
       "3   Albo spoke well on #Insiders, placing responsi...   \n",
       "4   Here is your pick up line for tonight!🍷🍺 #dati...   \n",
       "..                                                ...   \n",
       "68  the way this the second person that lied about...   \n",
       "69   https://t.co/VsjP9b4bIS - #Timeson #Womens #W...   \n",
       "70   https://t.co/fj3FOXIB9S #PUMA Web Tech Bioweb...   \n",
       "71  1/2 1 thing I don't get, if #TERFs and #Gender...   \n",
       "72  #LilyCollins  https://t.co/mmk39EcoZJ  #bigdat...   \n",
       "\n",
       "                                             hashtags  \n",
       "0                                             [women]  \n",
       "1                [women, wallstreet, womeninbusiness]  \n",
       "2                             [lgbtq, amongus, women]  \n",
       "3                                   [insiders, women]  \n",
       "4   [dating, tinder, love, togo, bumble, relations...  \n",
       "..                                                ...  \n",
       "68                                            [women]  \n",
       "69  [timeson, womens, white, tops, blouses, women,...  \n",
       "70                                      [puma, women]  \n",
       "71                    [terfs, gendercriticals, women]  \n",
       "72  [lilycollins, bigdata, uk, linkedin, fashion, ...  \n",
       "\n",
       "[73 rows x 2 columns]"
      ]
     },
     "execution_count": 5,
     "metadata": {},
     "output_type": "execute_result"
    }
   ],
   "source": [
    "df"
   ]
  },
  {
   "cell_type": "code",
   "execution_count": 6,
   "metadata": {
    "ExecuteTime": {
     "end_time": "2021-02-28T02:47:05.454914Z",
     "start_time": "2021-02-28T02:47:05.452125Z"
    }
   },
   "outputs": [],
   "source": [
    "# import nltk\n",
    "# nltk.download('popular')"
   ]
  },
  {
   "cell_type": "code",
   "execution_count": 7,
   "metadata": {
    "ExecuteTime": {
     "end_time": "2021-02-28T02:47:05.465305Z",
     "start_time": "2021-02-28T02:47:05.457943Z"
    }
   },
   "outputs": [
    {
     "ename": "SyntaxError",
     "evalue": "invalid syntax (<ipython-input-7-ea983c027aa6>, line 12)",
     "output_type": "error",
     "traceback": [
      "\u001b[0;36m  File \u001b[0;32m\"<ipython-input-7-ea983c027aa6>\"\u001b[0;36m, line \u001b[0;32m12\u001b[0m\n\u001b[0;31m    message_text =\u001b[0m\n\u001b[0m                   ^\u001b[0m\n\u001b[0;31mSyntaxError\u001b[0m\u001b[0;31m:\u001b[0m invalid syntax\n"
     ]
    }
   ],
   "source": [
    "import nltk\n",
    "import nltk.data\n",
    "from nltk.sentiment.vader import SentimentIntensityAnalyzer\n",
    "from nltk import sentiment\n",
    "from nltk import word_tokenize\n",
    "\n",
    "sid = SentimentIntensityAnalyzer()\n",
    "\n",
    "\n",
    "tokenizer = nltk.data.load('tokenizers/punkt/english.pickle')\n",
    "\n",
    "message_text = \n",
    "\n",
    "sentences = tokenizer.tokenize(message_text)\n",
    "\n",
    "for sentence in sentences:\n",
    "        print(sentence)\n",
    "        scores = sid.polarity_scores(sentence)\n",
    "        for key in sorted(scores):\n",
    "                print('{0}: {1}, '.format(key, scores[key]), end='')\n",
    "        print()\n",
    "\n"
   ]
  },
  {
   "cell_type": "code",
   "execution_count": null,
   "metadata": {},
   "outputs": [],
   "source": []
  }
 ],
 "metadata": {
  "kernelspec": {
   "display_name": "Python 3",
   "language": "python",
   "name": "python3"
  },
  "language_info": {
   "codemirror_mode": {
    "name": "ipython",
    "version": 3
   },
   "file_extension": ".py",
   "mimetype": "text/x-python",
   "name": "python",
   "nbconvert_exporter": "python",
   "pygments_lexer": "ipython3",
   "version": "3.8.3"
  }
 },
 "nbformat": 4,
 "nbformat_minor": 4
}
