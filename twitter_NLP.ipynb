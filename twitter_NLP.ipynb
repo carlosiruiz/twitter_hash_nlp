{
 "cells": [
  {
   "cell_type": "code",
   "execution_count": 9,
   "metadata": {
    "ExecuteTime": {
     "end_time": "2021-02-09T20:07:23.623814Z",
     "start_time": "2021-02-09T20:07:23.617018Z"
    }
   },
   "outputs": [],
   "source": [
    "import pandas as pd"
   ]
  },
  {
   "cell_type": "code",
   "execution_count": 59,
   "metadata": {
    "ExecuteTime": {
     "end_time": "2021-02-11T01:00:40.576012Z",
     "start_time": "2021-02-11T01:00:40.560603Z"
    }
   },
   "outputs": [],
   "source": [
    "def hashtag_webscrape(hashtag:str,language:str,limit=100000,clean=True, auto_update= True):\n",
    "    import twint\n",
    "    import pandas as pd\n",
    "    import nest_asyncio\n",
    "    \n",
    "    nest_asyncio.apply()\n",
    "    c = twint.Config()\n",
    "    c.Search = hashtag\n",
    "    c.Limit = limit\n",
    "    c.Hide_output = True\n",
    "    c.Pandas = True\n",
    "    c.Pandas_clean = clean\n",
    "    c.Pandas_au = auto_update\n",
    "    \n",
    "    twint.run.Search(c)\n",
    "    \n",
    "    tweets = twint.storage.panda.Tweets_df\n",
    "    \n",
    "    \n",
    "    df = tweets[tweets.language == language]\n",
    "    df.reset_index(inplace=True,drop=True)\n",
    "    df = df[[\"tweet\",\"hashtags\"]]\n",
    "    \n",
    "    \n",
    "    print(\"Finished: Successfully collected \"+str(df.shape[0]) +\" Tweets.\")\n",
    "    \n",
    "    return df"
   ]
  },
  {
   "cell_type": "code",
   "execution_count": 33,
   "metadata": {
    "ExecuteTime": {
     "end_time": "2021-02-10T17:20:56.826760Z",
     "start_time": "2021-02-10T16:58:58.601877Z"
    }
   },
   "outputs": [
    {
     "name": "stdout",
     "output_type": "stream",
     "text": [
      "Finished: Successfully collected 82942 Tweets.\n"
     ]
    }
   ],
   "source": [
    "hashtag_webscrape(\"#women\",\"en\")"
   ]
  },
  {
   "cell_type": "code",
   "execution_count": 61,
   "metadata": {
    "ExecuteTime": {
     "end_time": "2021-02-12T01:29:20.223662Z",
     "start_time": "2021-02-12T01:29:20.055022Z"
    }
   },
   "outputs": [
    {
     "data": {
      "text/html": [
       "<div>\n",
       "<style scoped>\n",
       "    .dataframe tbody tr th:only-of-type {\n",
       "        vertical-align: middle;\n",
       "    }\n",
       "\n",
       "    .dataframe tbody tr th {\n",
       "        vertical-align: top;\n",
       "    }\n",
       "\n",
       "    .dataframe thead th {\n",
       "        text-align: right;\n",
       "    }\n",
       "</style>\n",
       "<table border=\"1\" class=\"dataframe\">\n",
       "  <thead>\n",
       "    <tr style=\"text-align: right;\">\n",
       "      <th></th>\n",
       "      <th>tweet</th>\n",
       "      <th>hashtags</th>\n",
       "    </tr>\n",
       "  </thead>\n",
       "  <tbody>\n",
       "    <tr>\n",
       "      <th>0</th>\n",
       "      <td>Support some of our amazing mentors! #subscrib...</td>\n",
       "      <td>[subscribe, dominicanamerican, women]</td>\n",
       "    </tr>\n",
       "    <tr>\n",
       "      <th>1</th>\n",
       "      <td>https://t.co/sqnJPhHKpZ #WomenFiction, Women’...</td>\n",
       "      <td>[womenfiction, women, literary]</td>\n",
       "    </tr>\n",
       "    <tr>\n",
       "      <th>2</th>\n",
       "      <td>Who was credited with Andrew Young’s 1980 Geor...</td>\n",
       "      <td>[todaysbirthday, womenshistory, women, history...</td>\n",
       "    </tr>\n",
       "    <tr>\n",
       "      <th>3</th>\n",
       "      <td>https://t.co/shsdhmVxc7 #Holidays #GiftGuide ...</td>\n",
       "      <td>[holidays, giftguide, bestgift, selfdefense, w...</td>\n",
       "    </tr>\n",
       "    <tr>\n",
       "      <th>4</th>\n",
       "      <td>Zero cost, maybe, but the performance results ...</td>\n",
       "      <td>[gender, esg, sustainability, sdg5, genderequa...</td>\n",
       "    </tr>\n",
       "    <tr>\n",
       "      <th>...</th>\n",
       "      <td>...</td>\n",
       "      <td>...</td>\n",
       "    </tr>\n",
       "    <tr>\n",
       "      <th>82937</th>\n",
       "      <td>Lady Bosses at @BurgerKing India, New Delhi, A...</td>\n",
       "      <td>[genderinclusion, women, womeninbusiness]</td>\n",
       "    </tr>\n",
       "    <tr>\n",
       "      <th>82938</th>\n",
       "      <td>#Pakistan no place for #women  women are forci...</td>\n",
       "      <td>[pakistan, women, islam, balochistanotpakiatan...</td>\n",
       "    </tr>\n",
       "    <tr>\n",
       "      <th>82939</th>\n",
       "      <td>Can PTSD With Depression Raise Premature Morta...</td>\n",
       "      <td>[women]</td>\n",
       "    </tr>\n",
       "    <tr>\n",
       "      <th>82940</th>\n",
       "      <td>Can PTSD With Depression Raise Premature Morta...</td>\n",
       "      <td>[women]</td>\n",
       "    </tr>\n",
       "    <tr>\n",
       "      <th>82941</th>\n",
       "      <td>#women jewelry #necklaces #beadednecklace #ets...</td>\n",
       "      <td>[women, necklaces, beadednecklace, etsymntt, e...</td>\n",
       "    </tr>\n",
       "  </tbody>\n",
       "</table>\n",
       "<p>82942 rows × 2 columns</p>\n",
       "</div>"
      ],
      "text/plain": [
       "                                                   tweet  \\\n",
       "0      Support some of our amazing mentors! #subscrib...   \n",
       "1       https://t.co/sqnJPhHKpZ #WomenFiction, Women’...   \n",
       "2      Who was credited with Andrew Young’s 1980 Geor...   \n",
       "3       https://t.co/shsdhmVxc7 #Holidays #GiftGuide ...   \n",
       "4      Zero cost, maybe, but the performance results ...   \n",
       "...                                                  ...   \n",
       "82937  Lady Bosses at @BurgerKing India, New Delhi, A...   \n",
       "82938  #Pakistan no place for #women  women are forci...   \n",
       "82939  Can PTSD With Depression Raise Premature Morta...   \n",
       "82940  Can PTSD With Depression Raise Premature Morta...   \n",
       "82941  #women jewelry #necklaces #beadednecklace #ets...   \n",
       "\n",
       "                                                hashtags  \n",
       "0                  [subscribe, dominicanamerican, women]  \n",
       "1                        [womenfiction, women, literary]  \n",
       "2      [todaysbirthday, womenshistory, women, history...  \n",
       "3      [holidays, giftguide, bestgift, selfdefense, w...  \n",
       "4      [gender, esg, sustainability, sdg5, genderequa...  \n",
       "...                                                  ...  \n",
       "82937          [genderinclusion, women, womeninbusiness]  \n",
       "82938  [pakistan, women, islam, balochistanotpakiatan...  \n",
       "82939                                            [women]  \n",
       "82940                                            [women]  \n",
       "82941  [women, necklaces, beadednecklace, etsymntt, e...  \n",
       "\n",
       "[82942 rows x 2 columns]"
      ]
     },
     "execution_count": 61,
     "metadata": {},
     "output_type": "execute_result"
    }
   ],
   "source": [
    "women"
   ]
  },
  {
   "cell_type": "code",
   "execution_count": 62,
   "metadata": {
    "ExecuteTime": {
     "end_time": "2021-02-12T01:30:09.056005Z",
     "start_time": "2021-02-12T01:30:09.043764Z"
    }
   },
   "outputs": [],
   "source": [
    "l=[1,5,3,6,2,4,8,4,2,7,4]\n"
   ]
  },
  {
   "cell_type": "code",
   "execution_count": 63,
   "metadata": {
    "ExecuteTime": {
     "end_time": "2021-02-12T01:55:08.560377Z",
     "start_time": "2021-02-12T01:55:08.526548Z"
    }
   },
   "outputs": [
    {
     "ename": "SyntaxError",
     "evalue": "unexpected EOF while parsing (<ipython-input-63-1417708ada86>, line 4)",
     "output_type": "error",
     "traceback": [
      "\u001b[0;36m  File \u001b[0;32m\"<ipython-input-63-1417708ada86>\"\u001b[0;36m, line \u001b[0;32m4\u001b[0m\n\u001b[0;31m    while c !=0:\u001b[0m\n\u001b[0m                ^\u001b[0m\n\u001b[0;31mSyntaxError\u001b[0m\u001b[0;31m:\u001b[0m unexpected EOF while parsing\n"
     ]
    }
   ],
   "source": [
    "def duplicates():\n",
    "    c=len(l)\n",
    "    \n",
    "    while c !=0:\n"
   ]
  },
  {
   "cell_type": "code",
   "execution_count": 78,
   "metadata": {
    "ExecuteTime": {
     "end_time": "2021-02-12T02:01:06.771111Z",
     "start_time": "2021-02-12T02:01:06.767000Z"
    }
   },
   "outputs": [
    {
     "ename": "SyntaxError",
     "evalue": "invalid syntax (<ipython-input-78-9a365fc1e84a>, line 5)",
     "output_type": "error",
     "traceback": [
      "\u001b[0;36m  File \u001b[0;32m\"<ipython-input-78-9a365fc1e84a>\"\u001b[0;36m, line \u001b[0;32m5\u001b[0m\n\u001b[0;31m    if i in b:\u001b[0m\n\u001b[0m             ^\u001b[0m\n\u001b[0;31mSyntaxError\u001b[0m\u001b[0;31m:\u001b[0m invalid syntax\n"
     ]
    }
   ],
   "source": [
    "def unique_list(lis):\n",
    "    a=[]\n",
    "    for i in lis:\n",
    "        b=list(pd.unique(lis)\n",
    "            if i in b:\n",
    "                a.append(i)\n",
    "    return a"
   ]
  },
  {
   "cell_type": "code",
   "execution_count": 72,
   "metadata": {
    "ExecuteTime": {
     "end_time": "2021-02-12T01:58:45.233212Z",
     "start_time": "2021-02-12T01:58:45.222702Z"
    }
   },
   "outputs": [
    {
     "ename": "NameError",
     "evalue": "name 'unique_list' is not defined",
     "output_type": "error",
     "traceback": [
      "\u001b[0;31m---------------------------------------------------------------------------\u001b[0m",
      "\u001b[0;31mNameError\u001b[0m                                 Traceback (most recent call last)",
      "\u001b[0;32m<ipython-input-72-78f4c042415f>\u001b[0m in \u001b[0;36m<module>\u001b[0;34m\u001b[0m\n\u001b[0;32m----> 1\u001b[0;31m \u001b[0munique_list\u001b[0m\u001b[0;34m(\u001b[0m\u001b[0ml\u001b[0m\u001b[0;34m)\u001b[0m\u001b[0;34m\u001b[0m\u001b[0;34m\u001b[0m\u001b[0m\n\u001b[0m",
      "\u001b[0;31mNameError\u001b[0m: name 'unique_list' is not defined"
     ]
    }
   ],
   "source": [
    "unique_list(l)"
   ]
  },
  {
   "cell_type": "code",
   "execution_count": 82,
   "metadata": {
    "ExecuteTime": {
     "end_time": "2021-02-12T02:01:57.781154Z",
     "start_time": "2021-02-12T02:01:57.776382Z"
    }
   },
   "outputs": [
    {
     "ename": "SyntaxError",
     "evalue": "invalid syntax (<ipython-input-82-a1901b1e98ba>, line 3)",
     "output_type": "error",
     "traceback": [
      "\u001b[0;36m  File \u001b[0;32m\"<ipython-input-82-a1901b1e98ba>\"\u001b[0;36m, line \u001b[0;32m3\u001b[0m\n\u001b[0;31m    a in b\u001b[0m\n\u001b[0m    ^\u001b[0m\n\u001b[0;31mSyntaxError\u001b[0m\u001b[0;31m:\u001b[0m invalid syntax\n"
     ]
    }
   ],
   "source": [
    "a=1\n",
    "b=list(pd.unique(lis)\n",
    "a in b"
   ]
  },
  {
   "cell_type": "code",
   "execution_count": null,
   "metadata": {},
   "outputs": [],
   "source": [
    "set(l)"
   ]
  }
 ],
 "metadata": {
  "kernelspec": {
   "display_name": "Python 3",
   "language": "python",
   "name": "python3"
  },
  "language_info": {
   "codemirror_mode": {
    "name": "ipython",
    "version": 3
   },
   "file_extension": ".py",
   "mimetype": "text/x-python",
   "name": "python",
   "nbconvert_exporter": "python",
   "pygments_lexer": "ipython3",
   "version": "3.8.3"
  }
 },
 "nbformat": 4,
 "nbformat_minor": 4
}
