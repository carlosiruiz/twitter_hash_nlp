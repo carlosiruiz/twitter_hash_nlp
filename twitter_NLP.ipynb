{
 "cells": [
  {
   "cell_type": "code",
   "execution_count": 1,
   "metadata": {
    "ExecuteTime": {
     "end_time": "2021-02-09T02:11:18.731894Z",
     "start_time": "2021-02-09T02:11:18.331239Z"
    }
   },
   "outputs": [],
   "source": [
    "import pandas as pd"
   ]
  },
  {
   "cell_type": "code",
   "execution_count": 2,
   "metadata": {
    "ExecuteTime": {
     "end_time": "2021-02-09T02:11:18.739439Z",
     "start_time": "2021-02-09T02:11:18.734460Z"
    }
   },
   "outputs": [],
   "source": [
    "def hashtag_webscrape(hashtag:str,language:str,limit=100000,clean=True, auto_update= True):\n",
    "    import twint\n",
    "    import pandas as pd\n",
    "    import nest_asyncio\n",
    "    \n",
    "    nest_asyncio.apply()\n",
    "    c = twint.Config()\n",
    "    c.Search = hashtag\n",
    "    c.Limit = limit\n",
    "    c.Hide_output = True\n",
    "    c.Pandas = True\n",
    "    c.Pandas_clean = clean\n",
    "    c.Pandas_au = auto_update\n",
    "    \n",
    "    twint.run.Search(c)\n",
    "    \n",
    "    tweets = twint.storage.panda.Tweets_df\n",
    "    \n",
    "    df=tweets[tweets.language == language]\n",
    "    df.reset_index(inplace=True,drop=True)\n",
    "    \n",
    "    print(\"Finished: Successfully collected \"+str(df.shape[0]) +\" Tweets.\")\n",
    "    \n",
    "    return df"
   ]
  },
  {
   "cell_type": "code",
   "execution_count": 3,
   "metadata": {
    "ExecuteTime": {
     "end_time": "2021-02-09T02:33:38.159330Z",
     "start_time": "2021-02-09T02:11:18.742364Z"
    }
   },
   "outputs": [
    {
     "name": "stdout",
     "output_type": "stream",
     "text": [
      "Finished: Successfully collected 83010 Tweets.\n"
     ]
    }
   ],
   "source": [
    "women = hashtag_webscrape(\"#women\",\"en\")"
   ]
  },
  {
   "cell_type": "code",
   "execution_count": 5,
   "metadata": {
    "ExecuteTime": {
     "end_time": "2021-02-09T20:05:10.074532Z",
     "start_time": "2021-02-09T20:05:10.056556Z"
    }
   },
   "outputs": [
    {
     "data": {
      "text/plain": [
       "Index(['id', 'conversation_id', 'created_at', 'date', 'timezone', 'place',\n",
       "       'tweet', 'language', 'hashtags', 'cashtags', 'user_id', 'user_id_str',\n",
       "       'username', 'name', 'day', 'hour', 'link', 'urls', 'photos', 'video',\n",
       "       'thumbnail', 'retweet', 'nlikes', 'nreplies', 'nretweets', 'quote_url',\n",
       "       'search', 'near', 'geo', 'source', 'user_rt_id', 'user_rt',\n",
       "       'retweet_id', 'reply_to', 'retweet_date', 'translate', 'trans_src',\n",
       "       'trans_dest'],\n",
       "      dtype='object')"
      ]
     },
     "execution_count": 5,
     "metadata": {},
     "output_type": "execute_result"
    }
   ],
   "source": [
    "women.columns"
   ]
  },
  {
   "cell_type": "code",
   "execution_count": 8,
   "metadata": {
    "ExecuteTime": {
     "end_time": "2021-02-09T20:06:39.550544Z",
     "start_time": "2021-02-09T20:06:39.530068Z"
    }
   },
   "outputs": [
    {
     "data": {
      "text/html": [
       "<div>\n",
       "<style scoped>\n",
       "    .dataframe tbody tr th:only-of-type {\n",
       "        vertical-align: middle;\n",
       "    }\n",
       "\n",
       "    .dataframe tbody tr th {\n",
       "        vertical-align: top;\n",
       "    }\n",
       "\n",
       "    .dataframe thead th {\n",
       "        text-align: right;\n",
       "    }\n",
       "</style>\n",
       "<table border=\"1\" class=\"dataframe\">\n",
       "  <thead>\n",
       "    <tr style=\"text-align: right;\">\n",
       "      <th></th>\n",
       "      <th>tweet</th>\n",
       "      <th>hashtags</th>\n",
       "      <th>near</th>\n",
       "    </tr>\n",
       "  </thead>\n",
       "  <tbody>\n",
       "    <tr>\n",
       "      <th>0</th>\n",
       "      <td>#WATCH: Did you know that women are six times ...</td>\n",
       "      <td>[watch, women, hearthealth, stroke, awareness]</td>\n",
       "      <td></td>\n",
       "    </tr>\n",
       "    <tr>\n",
       "      <th>1</th>\n",
       "      <td>Working hard for everyone #women   #constructi...</td>\n",
       "      <td>[women, construction, work, safety, skill]</td>\n",
       "      <td></td>\n",
       "    </tr>\n",
       "    <tr>\n",
       "      <th>2</th>\n",
       "      <td>📷 “Personal Checking and Banking ” #doyou #hon...</td>\n",
       "      <td>[doyou, honeygrow, peoplewatching, photography...</td>\n",
       "      <td></td>\n",
       "    </tr>\n",
       "    <tr>\n",
       "      <th>3</th>\n",
       "      <td>Alta Associates CEO @joyce_brocaglia founded t...</td>\n",
       "      <td>[women, informationsecurity, it, risk, privacy...</td>\n",
       "      <td></td>\n",
       "    </tr>\n",
       "    <tr>\n",
       "      <th>4</th>\n",
       "      <td>women tend to be much better listeners than me...</td>\n",
       "      <td>[women, listening, therapy]</td>\n",
       "      <td></td>\n",
       "    </tr>\n",
       "    <tr>\n",
       "      <th>...</th>\n",
       "      <td>...</td>\n",
       "      <td>...</td>\n",
       "      <td>...</td>\n",
       "    </tr>\n",
       "    <tr>\n",
       "      <th>83005</th>\n",
       "      <td>Check out where the wealthiest, most #corrupt ...</td>\n",
       "      <td>[corrupt, women, lgbtq, georgia]</td>\n",
       "      <td></td>\n",
       "    </tr>\n",
       "    <tr>\n",
       "      <th>83006</th>\n",
       "      <td>Did You Know?  For all lovers of high heels. S...</td>\n",
       "      <td>[women, shoes, surefeel, beyondhygiene, anionp...</td>\n",
       "      <td></td>\n",
       "    </tr>\n",
       "    <tr>\n",
       "      <th>83007</th>\n",
       "      <td>SRSG @louncenyfall briefed @UN #SecurityCounci...</td>\n",
       "      <td>[securitycouncil, centralafrica, unoca, terror...</td>\n",
       "      <td></td>\n",
       "    </tr>\n",
       "    <tr>\n",
       "      <th>83008</th>\n",
       "      <td>The #Women At Gates Of The #MaharaPrison  http...</td>\n",
       "      <td>[women, maharaprison, standup4humanrights, mah...</td>\n",
       "      <td></td>\n",
       "    </tr>\n",
       "    <tr>\n",
       "      <th>83009</th>\n",
       "      <td>#COVID #vaccines have a chemical that makes #w...</td>\n",
       "      <td>[covid, vaccines, women]</td>\n",
       "      <td></td>\n",
       "    </tr>\n",
       "  </tbody>\n",
       "</table>\n",
       "<p>83010 rows × 3 columns</p>\n",
       "</div>"
      ],
      "text/plain": [
       "                                                   tweet  \\\n",
       "0      #WATCH: Did you know that women are six times ...   \n",
       "1      Working hard for everyone #women   #constructi...   \n",
       "2      📷 “Personal Checking and Banking ” #doyou #hon...   \n",
       "3      Alta Associates CEO @joyce_brocaglia founded t...   \n",
       "4      women tend to be much better listeners than me...   \n",
       "...                                                  ...   \n",
       "83005  Check out where the wealthiest, most #corrupt ...   \n",
       "83006  Did You Know?  For all lovers of high heels. S...   \n",
       "83007  SRSG @louncenyfall briefed @UN #SecurityCounci...   \n",
       "83008  The #Women At Gates Of The #MaharaPrison  http...   \n",
       "83009  #COVID #vaccines have a chemical that makes #w...   \n",
       "\n",
       "                                                hashtags near  \n",
       "0         [watch, women, hearthealth, stroke, awareness]       \n",
       "1             [women, construction, work, safety, skill]       \n",
       "2      [doyou, honeygrow, peoplewatching, photography...       \n",
       "3      [women, informationsecurity, it, risk, privacy...       \n",
       "4                            [women, listening, therapy]       \n",
       "...                                                  ...  ...  \n",
       "83005                   [corrupt, women, lgbtq, georgia]       \n",
       "83006  [women, shoes, surefeel, beyondhygiene, anionp...       \n",
       "83007  [securitycouncil, centralafrica, unoca, terror...       \n",
       "83008  [women, maharaprison, standup4humanrights, mah...       \n",
       "83009                           [covid, vaccines, women]       \n",
       "\n",
       "[83010 rows x 3 columns]"
      ]
     },
     "execution_count": 8,
     "metadata": {},
     "output_type": "execute_result"
    }
   ],
   "source": [
    "women[[\"tweet\",\"hashtags\",\"near\"]]"
   ]
  },
  {
   "cell_type": "code",
   "execution_count": null,
   "metadata": {},
   "outputs": [],
   "source": []
  }
 ],
 "metadata": {
  "kernelspec": {
   "display_name": "Python 3",
   "language": "python",
   "name": "python3"
  },
  "language_info": {
   "codemirror_mode": {
    "name": "ipython",
    "version": 3
   },
   "file_extension": ".py",
   "mimetype": "text/x-python",
   "name": "python",
   "nbconvert_exporter": "python",
   "pygments_lexer": "ipython3",
   "version": "3.8.3"
  }
 },
 "nbformat": 4,
 "nbformat_minor": 4
}
