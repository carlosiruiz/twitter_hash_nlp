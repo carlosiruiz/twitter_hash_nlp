{
 "cells": [
  {
   "cell_type": "code",
   "execution_count": 9,
   "metadata": {
    "ExecuteTime": {
     "end_time": "2021-02-09T20:07:23.623814Z",
     "start_time": "2021-02-09T20:07:23.617018Z"
    }
   },
   "outputs": [],
   "source": [
    "import pandas as pd"
   ]
  },
  {
   "cell_type": "code",
   "execution_count": 96,
   "metadata": {
    "ExecuteTime": {
     "end_time": "2021-02-13T03:12:05.411607Z",
     "start_time": "2021-02-13T03:12:05.402262Z"
    }
   },
   "outputs": [
    {
     "ename": "SyntaxError",
     "evalue": "invalid syntax (<ipython-input-96-e589e2d88dcc>, line 19)",
     "output_type": "error",
     "traceback": [
      "\u001b[0;36m  File \u001b[0;32m\"<ipython-input-96-e589e2d88dcc>\"\u001b[0;36m, line \u001b[0;32m19\u001b[0m\n\u001b[0;31m    global vars()[df_name]\u001b[0m\n\u001b[0m               ^\u001b[0m\n\u001b[0;31mSyntaxError\u001b[0m\u001b[0;31m:\u001b[0m invalid syntax\n"
     ]
    }
   ],
   "source": [
    "def hashtag_webscrape(hashtag:str,language:str,df_name:str,limit=100000,clean=True, auto_update= True):\n",
    "    import twint\n",
    "    import pandas as pd\n",
    "    import nest_asyncio\n",
    "    \n",
    "    nest_asyncio.apply()\n",
    "    c = twint.Config()\n",
    "    c.Search = hashtag\n",
    "    c.Limit = limit\n",
    "    c.Hide_output = True\n",
    "    c.Pandas = True\n",
    "    c.Pandas_clean = clean\n",
    "    c.Pandas_au = auto_update\n",
    "    \n",
    "    twint.run.Search(c)\n",
    "    \n",
    "    tweets = twint.storage.panda.Tweets_df\n",
    "    \n",
    "    global vars()[df_name] \n",
    "    df = tweets[tweets.language == language]\n",
    "    df.reset_index(inplace=True,drop=True)\n",
    "    df = df[[\"tweet\",\"hashtags\"]]\n",
    "    \n",
    "\n",
    "    print(\"Finished: Successfully collected \"+str(df.shape[0]) +\" Tweets.\")\n",
    "    \n",
    "    "
   ]
  },
  {
   "cell_type": "code",
   "execution_count": 93,
   "metadata": {
    "ExecuteTime": {
     "end_time": "2021-02-13T03:10:04.166631Z",
     "start_time": "2021-02-13T03:10:00.219048Z"
    }
   },
   "outputs": [
    {
     "name": "stdout",
     "output_type": "stream",
     "text": [
      "Finished: Successfully collected 73 Tweets.\n"
     ]
    }
   ],
   "source": [
    "hashtag_webscrape(\"#women\",\"en\", limit=1)"
   ]
  },
  {
   "cell_type": "code",
   "execution_count": 94,
   "metadata": {
    "ExecuteTime": {
     "end_time": "2021-02-13T03:10:14.713482Z",
     "start_time": "2021-02-13T03:10:14.652228Z"
    }
   },
   "outputs": [
    {
     "data": {
      "text/html": [
       "<div>\n",
       "<style scoped>\n",
       "    .dataframe tbody tr th:only-of-type {\n",
       "        vertical-align: middle;\n",
       "    }\n",
       "\n",
       "    .dataframe tbody tr th {\n",
       "        vertical-align: top;\n",
       "    }\n",
       "\n",
       "    .dataframe thead th {\n",
       "        text-align: right;\n",
       "    }\n",
       "</style>\n",
       "<table border=\"1\" class=\"dataframe\">\n",
       "  <thead>\n",
       "    <tr style=\"text-align: right;\">\n",
       "      <th></th>\n",
       "      <th>tweet</th>\n",
       "      <th>hashtags</th>\n",
       "    </tr>\n",
       "  </thead>\n",
       "  <tbody>\n",
       "    <tr>\n",
       "      <th>0</th>\n",
       "      <td>Sharon’s Shorts $9.99 10 short stories to read...</td>\n",
       "      <td>[romance, fantasy, suspense, women, fable, par...</td>\n",
       "    </tr>\n",
       "    <tr>\n",
       "      <th>1</th>\n",
       "      <td>Be yourself in a world where everyone wants to...</td>\n",
       "      <td>[betruetoyourself, love, women]</td>\n",
       "    </tr>\n",
       "    <tr>\n",
       "      <th>2</th>\n",
       "      <td>#Women empowerment</td>\n",
       "      <td>[women]</td>\n",
       "    </tr>\n",
       "    <tr>\n",
       "      <th>3</th>\n",
       "      <td>Educating themselves in their own way - how do...</td>\n",
       "      <td>[organize, selfhelp, empower, women]</td>\n",
       "    </tr>\n",
       "    <tr>\n",
       "      <th>4</th>\n",
       "      <td>#Women folx aren't naturally jealous or hatefu...</td>\n",
       "      <td>[women]</td>\n",
       "    </tr>\n",
       "    <tr>\n",
       "      <th>...</th>\n",
       "      <td>...</td>\n",
       "      <td>...</td>\n",
       "    </tr>\n",
       "    <tr>\n",
       "      <th>68</th>\n",
       "      <td>#Women Titanium Steel Wide Face Ring Faux Diam...</td>\n",
       "      <td>[women]</td>\n",
       "    </tr>\n",
       "    <tr>\n",
       "      <th>69</th>\n",
       "      <td>PTSD Linked to Opioid Misuse in HIV-Positive P...</td>\n",
       "      <td>[women]</td>\n",
       "    </tr>\n",
       "    <tr>\n",
       "      <th>70</th>\n",
       "      <td>Imogen Low, Co-Founder &amp;amp; CTO    https://t....</td>\n",
       "      <td>[bigdata, ai, linkedin, iiot, iot, tech, linux...</td>\n",
       "    </tr>\n",
       "    <tr>\n",
       "      <th>71</th>\n",
       "      <td>We at #ERAMN love steaming hot #EQUALITY.Show ...</td>\n",
       "      <td>[eramn, equality, women, constitution, eranow,...</td>\n",
       "    </tr>\n",
       "    <tr>\n",
       "      <th>72</th>\n",
       "      <td>@KiranKumarACA Simple parties looking at votes...</td>\n",
       "      <td>[women]</td>\n",
       "    </tr>\n",
       "  </tbody>\n",
       "</table>\n",
       "<p>73 rows × 2 columns</p>\n",
       "</div>"
      ],
      "text/plain": [
       "                                                tweet  \\\n",
       "0   Sharon’s Shorts $9.99 10 short stories to read...   \n",
       "1   Be yourself in a world where everyone wants to...   \n",
       "2                                  #Women empowerment   \n",
       "3   Educating themselves in their own way - how do...   \n",
       "4   #Women folx aren't naturally jealous or hatefu...   \n",
       "..                                                ...   \n",
       "68  #Women Titanium Steel Wide Face Ring Faux Diam...   \n",
       "69  PTSD Linked to Opioid Misuse in HIV-Positive P...   \n",
       "70  Imogen Low, Co-Founder &amp; CTO    https://t....   \n",
       "71  We at #ERAMN love steaming hot #EQUALITY.Show ...   \n",
       "72  @KiranKumarACA Simple parties looking at votes...   \n",
       "\n",
       "                                             hashtags  \n",
       "0   [romance, fantasy, suspense, women, fable, par...  \n",
       "1                     [betruetoyourself, love, women]  \n",
       "2                                             [women]  \n",
       "3                [organize, selfhelp, empower, women]  \n",
       "4                                             [women]  \n",
       "..                                                ...  \n",
       "68                                            [women]  \n",
       "69                                            [women]  \n",
       "70  [bigdata, ai, linkedin, iiot, iot, tech, linux...  \n",
       "71  [eramn, equality, women, constitution, eranow,...  \n",
       "72                                            [women]  \n",
       "\n",
       "[73 rows x 2 columns]"
      ]
     },
     "execution_count": 94,
     "metadata": {},
     "output_type": "execute_result"
    }
   ],
   "source": [
    "df"
   ]
  },
  {
   "cell_type": "code",
   "execution_count": 132,
   "metadata": {
    "ExecuteTime": {
     "end_time": "2021-02-15T17:06:29.690108Z",
     "start_time": "2021-02-15T17:06:29.685919Z"
    }
   },
   "outputs": [],
   "source": [
    "l=[1,5,3,6,2,4,8,4,2,7,4]\n"
   ]
  },
  {
   "cell_type": "code",
   "execution_count": 118,
   "metadata": {
    "ExecuteTime": {
     "end_time": "2021-02-15T17:03:29.987196Z",
     "start_time": "2021-02-15T17:03:29.983279Z"
    }
   },
   "outputs": [],
   "source": [
    "l.remove(4)"
   ]
  },
  {
   "cell_type": "code",
   "execution_count": 119,
   "metadata": {
    "ExecuteTime": {
     "end_time": "2021-02-15T17:03:34.147358Z",
     "start_time": "2021-02-15T17:03:34.140615Z"
    }
   },
   "outputs": [
    {
     "data": {
      "text/plain": [
       "[1, 5, 3, 6, 2, 8, 4, 2, 7, 4]"
      ]
     },
     "execution_count": 119,
     "metadata": {},
     "output_type": "execute_result"
    }
   ],
   "source": [
    "l"
   ]
  },
  {
   "cell_type": "code",
   "execution_count": 63,
   "metadata": {
    "ExecuteTime": {
     "end_time": "2021-02-12T01:55:08.560377Z",
     "start_time": "2021-02-12T01:55:08.526548Z"
    }
   },
   "outputs": [
    {
     "ename": "SyntaxError",
     "evalue": "unexpected EOF while parsing (<ipython-input-63-1417708ada86>, line 4)",
     "output_type": "error",
     "traceback": [
      "\u001b[0;36m  File \u001b[0;32m\"<ipython-input-63-1417708ada86>\"\u001b[0;36m, line \u001b[0;32m4\u001b[0m\n\u001b[0;31m    while c !=0:\u001b[0m\n\u001b[0m                ^\u001b[0m\n\u001b[0;31mSyntaxError\u001b[0m\u001b[0;31m:\u001b[0m unexpected EOF while parsing\n"
     ]
    }
   ],
   "source": [
    "def duplicates():\n",
    "    c=len(l)\n",
    "    \n",
    "    while c !=0:\n"
   ]
  },
  {
   "cell_type": "code",
   "execution_count": 133,
   "metadata": {
    "ExecuteTime": {
     "end_time": "2021-02-15T17:06:31.346726Z",
     "start_time": "2021-02-15T17:06:31.342148Z"
    }
   },
   "outputs": [],
   "source": [
    "def unique_list(l):\n",
    "    a=l\n",
    "    b=list(pd.unique(l))\n",
    "    for i in b:\n",
    "        a.remove(i)\n",
    "    return(\"The duplicate items in the list are: \" + str(list(pd.unique(a))))\n",
    "        "
   ]
  },
  {
   "cell_type": "code",
   "execution_count": 134,
   "metadata": {
    "ExecuteTime": {
     "end_time": "2021-02-15T17:06:31.736598Z",
     "start_time": "2021-02-15T17:06:31.731845Z"
    }
   },
   "outputs": [
    {
     "data": {
      "text/plain": [
       "'The duplicate items in the list are: [4, 2]'"
      ]
     },
     "execution_count": 134,
     "metadata": {},
     "output_type": "execute_result"
    }
   ],
   "source": [
    "unique_list(l)"
   ]
  },
  {
   "cell_type": "code",
   "execution_count": 116,
   "metadata": {
    "ExecuteTime": {
     "end_time": "2021-02-15T17:01:40.257986Z",
     "start_time": "2021-02-15T17:01:40.218808Z"
    }
   },
   "outputs": [
    {
     "ename": "AttributeError",
     "evalue": "'list' object has no attribute 'drop'",
     "output_type": "error",
     "traceback": [
      "\u001b[0;31m---------------------------------------------------------------------------\u001b[0m",
      "\u001b[0;31mAttributeError\u001b[0m                            Traceback (most recent call last)",
      "\u001b[0;32m<ipython-input-116-3233cef9bb27>\u001b[0m in \u001b[0;36m<module>\u001b[0;34m\u001b[0m\n\u001b[0;32m----> 1\u001b[0;31m \u001b[0ml\u001b[0m\u001b[0;34m.\u001b[0m\u001b[0mdrop\u001b[0m\u001b[0;34m(\u001b[0m\u001b[0;36m1\u001b[0m\u001b[0;34m)\u001b[0m\u001b[0;34m\u001b[0m\u001b[0;34m\u001b[0m\u001b[0m\n\u001b[0m",
      "\u001b[0;31mAttributeError\u001b[0m: 'list' object has no attribute 'drop'"
     ]
    }
   ],
   "source": [
    "l"
   ]
  },
  {
   "cell_type": "code",
   "execution_count": null,
   "metadata": {},
   "outputs": [],
   "source": []
  }
 ],
 "metadata": {
  "kernelspec": {
   "display_name": "Python 3",
   "language": "python",
   "name": "python3"
  },
  "language_info": {
   "codemirror_mode": {
    "name": "ipython",
    "version": 3
   },
   "file_extension": ".py",
   "mimetype": "text/x-python",
   "name": "python",
   "nbconvert_exporter": "python",
   "pygments_lexer": "ipython3",
   "version": "3.8.3"
  }
 },
 "nbformat": 4,
 "nbformat_minor": 4
}
