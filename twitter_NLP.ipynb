{
 "cells": [
  {
   "cell_type": "code",
   "execution_count": 1,
   "metadata": {
    "ExecuteTime": {
     "end_time": "2021-03-07T01:26:31.059647Z",
     "start_time": "2021-03-07T01:26:27.546117Z"
    }
   },
   "outputs": [
    {
     "name": "stderr",
     "output_type": "stream",
     "text": [
      "[nltk_data] Downloading package stopwords to\n",
      "[nltk_data]     /Users/carlosruiz/nltk_data...\n",
      "[nltk_data]   Package stopwords is already up-to-date!\n",
      "[nltk_data] Downloading package punkt to\n",
      "[nltk_data]     /Users/carlosruiz/nltk_data...\n",
      "[nltk_data]   Package punkt is already up-to-date!\n",
      "[nltk_data] Downloading package wordnet to\n",
      "[nltk_data]     /Users/carlosruiz/nltk_data...\n",
      "[nltk_data]   Package wordnet is already up-to-date!\n"
     ]
    },
    {
     "data": {
      "text/plain": [
       "True"
      ]
     },
     "execution_count": 1,
     "metadata": {},
     "output_type": "execute_result"
    }
   ],
   "source": [
    "import nltk\n",
    "import matplotlib.pyplot as plt\n",
    "import pandas as pd\n",
    "from sklearn.feature_extraction.text import CountVectorizer\n",
    "from sklearn.feature_extraction.text import TfidfVectorizer\n",
    "from sklearn.feature_extraction.text import TfidfTransformer\n",
    "from nltk.probability import FreqDist\n",
    "from nltk.corpus import stopwords\n",
    "from nltk.stem import PorterStemmer\n",
    "from sklearn.metrics import confusion_matrix\n",
    "import seaborn as sns\n",
    "from sklearn.naive_bayes import MultinomialNB\n",
    "from sklearn import metrics\n",
    "from sklearn.model_selection import train_test_split\n",
    "from matplotlib import cm\n",
    "import numpy as np\n",
    "from sklearn.ensemble import RandomForestClassifier\n",
    "from sklearn.metrics import accuracy_score\n",
    "from sklearn.metrics import f1_score\n",
    "from sklearn.naive_bayes import MultinomialNB\n",
    "\n",
    "nltk.download('stopwords')\n",
    "nltk.download('punkt')\n",
    "nltk.download('wordnet')"
   ]
  },
  {
   "cell_type": "code",
   "execution_count": 2,
   "metadata": {
    "ExecuteTime": {
     "end_time": "2021-03-07T01:26:31.068239Z",
     "start_time": "2021-03-07T01:26:31.062140Z"
    }
   },
   "outputs": [],
   "source": [
    "def hashtag_webscrape(hashtag:str,language:str,limit=100000,clean=True, auto_update= True):\n",
    "    import twint\n",
    "    import pandas as pd\n",
    "    import nest_asyncio\n",
    "    \n",
    "    nest_asyncio.apply()\n",
    "    c = twint.Config()\n",
    "    c.Search = hashtag\n",
    "    c.Limit = limit\n",
    "    c.Hide_output = True\n",
    "    c.Pandas = True\n",
    "    c.Pandas_clean = clean\n",
    "    c.Pandas_au = auto_update\n",
    "    \n",
    "    twint.run.Search(c)\n",
    "    \n",
    "    tweets = twint.storage.panda.Tweets_df\n",
    "    \n",
    "\n",
    "    df = tweets[tweets.language == language]\n",
    "    df = tweets[tweets.retweet == False]\n",
    "    df = df[['tweet','hashtags']]\n",
    "    df.reset_index(inplace=True,drop=True)\n",
    "    \n",
    "\n",
    "    print(\"Finished: Successfully collected \"+str(df.shape[0]) +\" Tweets.\")\n",
    "    \n",
    "    return df"
   ]
  },
  {
   "cell_type": "code",
   "execution_count": 3,
   "metadata": {
    "ExecuteTime": {
     "end_time": "2021-03-07T01:26:33.200499Z",
     "start_time": "2021-03-07T01:26:31.071037Z"
    }
   },
   "outputs": [
    {
     "name": "stdout",
     "output_type": "stream",
     "text": [
      "Finished: Successfully collected 81 Tweets.\n"
     ]
    }
   ],
   "source": [
    "df=hashtag_webscrape(\"#women\",\"en\", limit=1)"
   ]
  },
  {
   "cell_type": "code",
   "execution_count": 4,
   "metadata": {
    "ExecuteTime": {
     "end_time": "2021-03-07T01:26:33.213025Z",
     "start_time": "2021-03-07T01:26:33.203702Z"
    }
   },
   "outputs": [
    {
     "data": {
      "text/plain": [
       "Index(['tweet', 'hashtags'], dtype='object')"
      ]
     },
     "execution_count": 4,
     "metadata": {},
     "output_type": "execute_result"
    }
   ],
   "source": [
    "df.columns"
   ]
  },
  {
   "cell_type": "code",
   "execution_count": 5,
   "metadata": {
    "ExecuteTime": {
     "end_time": "2021-03-07T01:26:33.232900Z",
     "start_time": "2021-03-07T01:26:33.215220Z"
    },
    "scrolled": true
   },
   "outputs": [
    {
     "data": {
      "text/html": [
       "<div>\n",
       "<style scoped>\n",
       "    .dataframe tbody tr th:only-of-type {\n",
       "        vertical-align: middle;\n",
       "    }\n",
       "\n",
       "    .dataframe tbody tr th {\n",
       "        vertical-align: top;\n",
       "    }\n",
       "\n",
       "    .dataframe thead th {\n",
       "        text-align: right;\n",
       "    }\n",
       "</style>\n",
       "<table border=\"1\" class=\"dataframe\">\n",
       "  <thead>\n",
       "    <tr style=\"text-align: right;\">\n",
       "      <th></th>\n",
       "      <th>tweet</th>\n",
       "      <th>hashtags</th>\n",
       "    </tr>\n",
       "  </thead>\n",
       "  <tbody>\n",
       "    <tr>\n",
       "      <th>0</th>\n",
       "      <td>Women are great #women</td>\n",
       "      <td>[women]</td>\n",
       "    </tr>\n",
       "    <tr>\n",
       "      <th>1</th>\n",
       "      <td>I can get behind amplifying some amazing #wome...</td>\n",
       "      <td>[women]</td>\n",
       "    </tr>\n",
       "    <tr>\n",
       "      <th>2</th>\n",
       "      <td>Thank you @annabelcrabb and @murpharoo #inside...</td>\n",
       "      <td>[insiders, women, male, coverups, abuse, youth...</td>\n",
       "    </tr>\n",
       "    <tr>\n",
       "      <th>3</th>\n",
       "      <td>Seahorse Crop Top| Bras |See Through Bra | Mes...</td>\n",
       "      <td>[clothing, women, lingerie]</td>\n",
       "    </tr>\n",
       "    <tr>\n",
       "      <th>4</th>\n",
       "      <td>🇪🇸5 ACTOS PARA CELEBRAR IWD2021 1-Comparte con...</td>\n",
       "      <td>[womensday2021, iwd2021, women, choosetochalle...</td>\n",
       "    </tr>\n",
       "    <tr>\n",
       "      <th>...</th>\n",
       "      <td>...</td>\n",
       "      <td>...</td>\n",
       "    </tr>\n",
       "    <tr>\n",
       "      <th>76</th>\n",
       "      <td>Reduce Fat Fast with Keto Here are the  Link:-...</td>\n",
       "      <td>[ketogenic, fitness, healthy, diet, keto, keto...</td>\n",
       "    </tr>\n",
       "    <tr>\n",
       "      <th>77</th>\n",
       "      <td>#Iowa Intruder Arrested for Filming #Women Whi...</td>\n",
       "      <td>[iowa, women, police]</td>\n",
       "    </tr>\n",
       "    <tr>\n",
       "      <th>78</th>\n",
       "      <td>NOW REPRESENTING / The Fly Twins @gracexfly &amp;a...</td>\n",
       "      <td>[fashion, model, women, editorial, photogenics...</td>\n",
       "    </tr>\n",
       "    <tr>\n",
       "      <th>79</th>\n",
       "      <td>#Women  https://t.co/TVn4tgkg9Z</td>\n",
       "      <td>[women]</td>\n",
       "    </tr>\n",
       "    <tr>\n",
       "      <th>80</th>\n",
       "      <td>Good Evening! ❤️  #drlakeisha #obgyn #womenshe...</td>\n",
       "      <td>[drlakeisha, obgyn, womenshealth, selflove, he...</td>\n",
       "    </tr>\n",
       "  </tbody>\n",
       "</table>\n",
       "<p>81 rows × 2 columns</p>\n",
       "</div>"
      ],
      "text/plain": [
       "                                                tweet  \\\n",
       "0                              Women are great #women   \n",
       "1   I can get behind amplifying some amazing #wome...   \n",
       "2   Thank you @annabelcrabb and @murpharoo #inside...   \n",
       "3   Seahorse Crop Top| Bras |See Through Bra | Mes...   \n",
       "4   🇪🇸5 ACTOS PARA CELEBRAR IWD2021 1-Comparte con...   \n",
       "..                                                ...   \n",
       "76  Reduce Fat Fast with Keto Here are the  Link:-...   \n",
       "77  #Iowa Intruder Arrested for Filming #Women Whi...   \n",
       "78  NOW REPRESENTING / The Fly Twins @gracexfly &a...   \n",
       "79                    #Women  https://t.co/TVn4tgkg9Z   \n",
       "80  Good Evening! ❤️  #drlakeisha #obgyn #womenshe...   \n",
       "\n",
       "                                             hashtags  \n",
       "0                                             [women]  \n",
       "1                                             [women]  \n",
       "2   [insiders, women, male, coverups, abuse, youth...  \n",
       "3                         [clothing, women, lingerie]  \n",
       "4   [womensday2021, iwd2021, women, choosetochalle...  \n",
       "..                                                ...  \n",
       "76  [ketogenic, fitness, healthy, diet, keto, keto...  \n",
       "77                              [iowa, women, police]  \n",
       "78  [fashion, model, women, editorial, photogenics...  \n",
       "79                                            [women]  \n",
       "80  [drlakeisha, obgyn, womenshealth, selflove, he...  \n",
       "\n",
       "[81 rows x 2 columns]"
      ]
     },
     "execution_count": 5,
     "metadata": {},
     "output_type": "execute_result"
    }
   ],
   "source": [
    "df"
   ]
  },
  {
   "cell_type": "code",
   "execution_count": 6,
   "metadata": {
    "ExecuteTime": {
     "end_time": "2021-03-07T01:26:33.238177Z",
     "start_time": "2021-03-07T01:26:33.235429Z"
    }
   },
   "outputs": [],
   "source": [
    "# import nltk\n",
    "# nltk.download('popular')"
   ]
  },
  {
   "cell_type": "code",
   "execution_count": 7,
   "metadata": {
    "ExecuteTime": {
     "end_time": "2021-03-07T01:26:33.250816Z",
     "start_time": "2021-03-07T01:26:33.240355Z"
    }
   },
   "outputs": [
    {
     "ename": "SyntaxError",
     "evalue": "invalid syntax (<ipython-input-7-ea983c027aa6>, line 12)",
     "output_type": "error",
     "traceback": [
      "\u001b[0;36m  File \u001b[0;32m\"<ipython-input-7-ea983c027aa6>\"\u001b[0;36m, line \u001b[0;32m12\u001b[0m\n\u001b[0;31m    message_text =\u001b[0m\n\u001b[0m                   ^\u001b[0m\n\u001b[0;31mSyntaxError\u001b[0m\u001b[0;31m:\u001b[0m invalid syntax\n"
     ]
    }
   ],
   "source": [
    "import nltk\n",
    "import nltk.data\n",
    "from nltk.sentiment.vader import SentimentIntensityAnalyzer\n",
    "from nltk import sentiment\n",
    "from nltk import word_tokenize\n",
    "\n",
    "sid = SentimentIntensityAnalyzer()\n",
    "\n",
    "\n",
    "tokenizer = nltk.data.load('tokenizers/punkt/english.pickle')\n",
    "\n",
    "message_text = \n",
    "\n",
    "sentences = tokenizer.tokenize(message_text)\n",
    "\n",
    "for sentence in sentences:\n",
    "        print(sentence)\n",
    "        scores = sid.polarity_scores(sentence)\n",
    "        for key in sorted(scores):\n",
    "                print('{0}: {1}, '.format(key, scores[key]), end='')\n",
    "        print()\n",
    "\n"
   ]
  },
  {
   "cell_type": "code",
   "execution_count": null,
   "metadata": {},
   "outputs": [],
   "source": []
  }
 ],
 "metadata": {
  "kernelspec": {
   "display_name": "Python 3",
   "language": "python",
   "name": "python3"
  },
  "language_info": {
   "codemirror_mode": {
    "name": "ipython",
    "version": 3
   },
   "file_extension": ".py",
   "mimetype": "text/x-python",
   "name": "python",
   "nbconvert_exporter": "python",
   "pygments_lexer": "ipython3",
   "version": "3.8.3"
  }
 },
 "nbformat": 4,
 "nbformat_minor": 4
}
