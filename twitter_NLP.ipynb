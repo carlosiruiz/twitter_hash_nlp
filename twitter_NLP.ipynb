{
 "cells": [
  {
   "cell_type": "code",
   "execution_count": 9,
   "metadata": {
    "ExecuteTime": {
     "end_time": "2021-02-09T20:07:23.623814Z",
     "start_time": "2021-02-09T20:07:23.617018Z"
    }
   },
   "outputs": [],
   "source": [
    "import pandas as pd"
   ]
  },
  {
   "cell_type": "code",
   "execution_count": 143,
   "metadata": {
    "ExecuteTime": {
     "end_time": "2021-02-15T23:56:26.321127Z",
     "start_time": "2021-02-15T23:56:26.228268Z"
    }
   },
   "outputs": [],
   "source": [
    "def hashtag_webscrape(hashtag:str,language:str,df_name:str,limit=100000,clean=True, auto_update= True):\n",
    "    import twint\n",
    "    import pandas as pd\n",
    "    import nest_asyncio\n",
    "    \n",
    "    nest_asyncio.apply()\n",
    "    c = twint.Config()\n",
    "    c.Search = hashtag\n",
    "    c.Limit = limit\n",
    "    c.Hide_output = True\n",
    "    c.Pandas = True\n",
    "    c.Pandas_clean = clean\n",
    "    c.Pandas_au = auto_update\n",
    "    \n",
    "    twint.run.Search(c)\n",
    "    \n",
    "    tweets = twint.storage.panda.Tweets_df\n",
    "    \n",
    "\n",
    "    df = tweets[tweets.language == language]\n",
    "    df.reset_index(inplace=True,drop=True)\n",
    "    df = df[[\"tweet\",\"hashtags\"]]\n",
    "    \n",
    "\n",
    "    print(\"Finished: Successfully collected \"+str(df.shape[0]) +\" Tweets.\")\n",
    "    \n",
    "    "
   ]
  },
  {
   "cell_type": "code",
   "execution_count": 93,
   "metadata": {
    "ExecuteTime": {
     "end_time": "2021-02-13T03:10:04.166631Z",
     "start_time": "2021-02-13T03:10:00.219048Z"
    }
   },
   "outputs": [
    {
     "name": "stdout",
     "output_type": "stream",
     "text": [
      "Finished: Successfully collected 73 Tweets.\n"
     ]
    }
   ],
   "source": [
    "hashtag_webscrape(\"#women\",\"en\", limit=1)"
   ]
  },
  {
   "cell_type": "code",
   "execution_count": 144,
   "metadata": {
    "ExecuteTime": {
     "end_time": "2021-02-15T23:56:29.138979Z",
     "start_time": "2021-02-15T23:56:28.836179Z"
    }
   },
   "outputs": [
    {
     "data": {
      "text/html": [
       "<div>\n",
       "<style scoped>\n",
       "    .dataframe tbody tr th:only-of-type {\n",
       "        vertical-align: middle;\n",
       "    }\n",
       "\n",
       "    .dataframe tbody tr th {\n",
       "        vertical-align: top;\n",
       "    }\n",
       "\n",
       "    .dataframe thead th {\n",
       "        text-align: right;\n",
       "    }\n",
       "</style>\n",
       "<table border=\"1\" class=\"dataframe\">\n",
       "  <thead>\n",
       "    <tr style=\"text-align: right;\">\n",
       "      <th></th>\n",
       "      <th>tweet</th>\n",
       "      <th>hashtags</th>\n",
       "    </tr>\n",
       "  </thead>\n",
       "  <tbody>\n",
       "    <tr>\n",
       "      <th>0</th>\n",
       "      <td>Sharon’s Shorts $9.99 10 short stories to read...</td>\n",
       "      <td>[romance, fantasy, suspense, women, fable, par...</td>\n",
       "    </tr>\n",
       "    <tr>\n",
       "      <th>1</th>\n",
       "      <td>Be yourself in a world where everyone wants to...</td>\n",
       "      <td>[betruetoyourself, love, women]</td>\n",
       "    </tr>\n",
       "    <tr>\n",
       "      <th>2</th>\n",
       "      <td>#Women empowerment</td>\n",
       "      <td>[women]</td>\n",
       "    </tr>\n",
       "    <tr>\n",
       "      <th>3</th>\n",
       "      <td>Educating themselves in their own way - how do...</td>\n",
       "      <td>[organize, selfhelp, empower, women]</td>\n",
       "    </tr>\n",
       "    <tr>\n",
       "      <th>4</th>\n",
       "      <td>#Women folx aren't naturally jealous or hatefu...</td>\n",
       "      <td>[women]</td>\n",
       "    </tr>\n",
       "    <tr>\n",
       "      <th>...</th>\n",
       "      <td>...</td>\n",
       "      <td>...</td>\n",
       "    </tr>\n",
       "    <tr>\n",
       "      <th>68</th>\n",
       "      <td>#Women Titanium Steel Wide Face Ring Faux Diam...</td>\n",
       "      <td>[women]</td>\n",
       "    </tr>\n",
       "    <tr>\n",
       "      <th>69</th>\n",
       "      <td>PTSD Linked to Opioid Misuse in HIV-Positive P...</td>\n",
       "      <td>[women]</td>\n",
       "    </tr>\n",
       "    <tr>\n",
       "      <th>70</th>\n",
       "      <td>Imogen Low, Co-Founder &amp;amp; CTO    https://t....</td>\n",
       "      <td>[bigdata, ai, linkedin, iiot, iot, tech, linux...</td>\n",
       "    </tr>\n",
       "    <tr>\n",
       "      <th>71</th>\n",
       "      <td>We at #ERAMN love steaming hot #EQUALITY.Show ...</td>\n",
       "      <td>[eramn, equality, women, constitution, eranow,...</td>\n",
       "    </tr>\n",
       "    <tr>\n",
       "      <th>72</th>\n",
       "      <td>@KiranKumarACA Simple parties looking at votes...</td>\n",
       "      <td>[women]</td>\n",
       "    </tr>\n",
       "  </tbody>\n",
       "</table>\n",
       "<p>73 rows × 2 columns</p>\n",
       "</div>"
      ],
      "text/plain": [
       "                                                tweet  \\\n",
       "0   Sharon’s Shorts $9.99 10 short stories to read...   \n",
       "1   Be yourself in a world where everyone wants to...   \n",
       "2                                  #Women empowerment   \n",
       "3   Educating themselves in their own way - how do...   \n",
       "4   #Women folx aren't naturally jealous or hatefu...   \n",
       "..                                                ...   \n",
       "68  #Women Titanium Steel Wide Face Ring Faux Diam...   \n",
       "69  PTSD Linked to Opioid Misuse in HIV-Positive P...   \n",
       "70  Imogen Low, Co-Founder &amp; CTO    https://t....   \n",
       "71  We at #ERAMN love steaming hot #EQUALITY.Show ...   \n",
       "72  @KiranKumarACA Simple parties looking at votes...   \n",
       "\n",
       "                                             hashtags  \n",
       "0   [romance, fantasy, suspense, women, fable, par...  \n",
       "1                     [betruetoyourself, love, women]  \n",
       "2                                             [women]  \n",
       "3                [organize, selfhelp, empower, women]  \n",
       "4                                             [women]  \n",
       "..                                                ...  \n",
       "68                                            [women]  \n",
       "69                                            [women]  \n",
       "70  [bigdata, ai, linkedin, iiot, iot, tech, linux...  \n",
       "71  [eramn, equality, women, constitution, eranow,...  \n",
       "72                                            [women]  \n",
       "\n",
       "[73 rows x 2 columns]"
      ]
     },
     "execution_count": 144,
     "metadata": {},
     "output_type": "execute_result"
    }
   ],
   "source": [
    "df"
   ]
  },
  {
   "cell_type": "code",
   "execution_count": 167,
   "metadata": {
    "ExecuteTime": {
     "end_time": "2021-02-16T20:15:43.157040Z",
     "start_time": "2021-02-16T20:15:43.152699Z"
    }
   },
   "outputs": [],
   "source": [
    "l=[1,5,3,6,6,2,4,8,4,2,7,4]"
   ]
  },
  {
   "cell_type": "code",
   "execution_count": 140,
   "metadata": {
    "ExecuteTime": {
     "end_time": "2021-02-15T17:07:43.431573Z",
     "start_time": "2021-02-15T17:07:43.426547Z"
    }
   },
   "outputs": [],
   "source": [
    "def unique_list(l):\n",
    "    a=l\n",
    "    b=list(pd.unique(l))\n",
    "    for i in b:\n",
    "        a.remove(i)\n",
    "    return(\"The duplicate items in the list are: \" + str(list(pd.unique(a))))\n",
    "        "
   ]
  },
  {
   "cell_type": "code",
   "execution_count": 141,
   "metadata": {
    "ExecuteTime": {
     "end_time": "2021-02-15T17:07:43.712182Z",
     "start_time": "2021-02-15T17:07:43.707788Z"
    }
   },
   "outputs": [
    {
     "data": {
      "text/plain": [
       "'The duplicate items in the list are: [6, 4, 2]'"
      ]
     },
     "execution_count": 141,
     "metadata": {},
     "output_type": "execute_result"
    }
   ],
   "source": [
    "unique_list(l)"
   ]
  },
  {
   "cell_type": "code",
   "execution_count": null,
   "metadata": {},
   "outputs": [],
   "source": []
  },
  {
   "cell_type": "code",
   "execution_count": 146,
   "metadata": {
    "ExecuteTime": {
     "end_time": "2021-02-16T14:56:40.785852Z",
     "start_time": "2021-02-16T14:56:40.780386Z"
    }
   },
   "outputs": [
    {
     "data": {
      "text/plain": [
       "0"
      ]
     },
     "execution_count": 146,
     "metadata": {},
     "output_type": "execute_result"
    }
   ],
   "source": [
    "12%3"
   ]
  },
  {
   "cell_type": "code",
   "execution_count": 194,
   "metadata": {
    "ExecuteTime": {
     "end_time": "2021-02-16T20:24:25.947360Z",
     "start_time": "2021-02-16T20:24:25.935528Z"
    }
   },
   "outputs": [
    {
     "data": {
      "text/plain": [
       "4     True\n",
       "6     True\n",
       "2     True\n",
       "8    False\n",
       "7    False\n",
       "5    False\n",
       "3    False\n",
       "1    False\n",
       "dtype: bool"
      ]
     },
     "execution_count": 194,
     "metadata": {},
     "output_type": "execute_result"
    }
   ],
   "source": [
    "pd.DataFrame(l).value_counts()>1"
   ]
  },
  {
   "cell_type": "code",
   "execution_count": 200,
   "metadata": {
    "ExecuteTime": {
     "end_time": "2021-02-16T23:50:21.411536Z",
     "start_time": "2021-02-16T23:50:21.409181Z"
    }
   },
   "outputs": [],
   "source": [
    "a=\"I appreciated how in detail the feedback was and the tips and tricks that he told me.  I think that the experience and questions that were asked did give me the sense of an actual technical interview and now I have a better understanding of what to expect and experience in a real technical interview. The homework exercises that he told me to work on, I think, give me a better sense of the places that I need the most improvement in and I will make sure to follow up on such homework exercises.\""
   ]
  },
  {
   "cell_type": "code",
   "execution_count": 202,
   "metadata": {
    "ExecuteTime": {
     "end_time": "2021-02-16T23:50:29.578787Z",
     "start_time": "2021-02-16T23:50:29.571785Z"
    }
   },
   "outputs": [
    {
     "data": {
      "text/plain": [
       "94"
      ]
     },
     "execution_count": 202,
     "metadata": {},
     "output_type": "execute_result"
    }
   ],
   "source": [
    "len(a.split())"
   ]
  },
  {
   "cell_type": "code",
   "execution_count": null,
   "metadata": {},
   "outputs": [],
   "source": []
  }
 ],
 "metadata": {
  "kernelspec": {
   "display_name": "Python 3",
   "language": "python",
   "name": "python3"
  },
  "language_info": {
   "codemirror_mode": {
    "name": "ipython",
    "version": 3
   },
   "file_extension": ".py",
   "mimetype": "text/x-python",
   "name": "python",
   "nbconvert_exporter": "python",
   "pygments_lexer": "ipython3",
   "version": "3.8.3"
  }
 },
 "nbformat": 4,
 "nbformat_minor": 4
}
